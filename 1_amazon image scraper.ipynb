{
 "cells": [
  {
   "cell_type": "code",
   "execution_count": 1,
   "id": "representative-humanitarian",
   "metadata": {},
   "outputs": [],
   "source": [
    "# Importing Libraries\n",
    "import pandas as pd\n",
    "import os\n",
    "from bs4 import BeautifulSoup\n",
    "import urllib.request\n",
    "import time, random, requests\n",
    "import selenium\n",
    "from selenium import webdriver\n",
    "from selenium.webdriver.common.action_chains import ActionChains \n",
    "from selenium.common.exceptions import NoSuchElementException"
   ]
  },
  {
   "cell_type": "code",
   "execution_count": 7,
   "id": "polyphonic-aaron",
   "metadata": {
    "scrolled": true
   },
   "outputs": [],
   "source": [
    "driver=webdriver.Chrome(executable_path=r'C:\\Users\\heman\\chromedriver_win32\\chromedriver.exe')\n",
    "\n",
    "items=['Sarees women','Trousers men','Jeans men']\n",
    "\n",
    "driver.get(\"https://www.amazon.in/\")\n",
    "time.sleep(random.randint(1, 10))\n",
    "\n",
    "for i, x in enumerate(items):\n",
    "\n",
    "    driver.find_element_by_xpath(\"/html/body/div[1]/header/div/div[1]/div[2]/div/form/div[2]/div[1]/input\").clear()\n",
    "    time.sleep(random.randint(1, 10))\n",
    "\n",
    "    driver.find_element_by_xpath(\"/html/body/div[1]/header/div/div[1]/div[2]/div/form/div[2]/div[1]/input\").send_keys(x)\n",
    "    time.sleep(random.randint(1, 10))\n",
    "\n",
    "    driver.find_element_by_xpath(\"/html/body/div[1]/header/div/div[1]/div[2]/div/form/div[3]/div/span/input\").click()\n",
    "    time.sleep(random.randint(1, 10))\n",
    "    \n",
    "    fst=x.split(\" \")[0]\n",
    "    snd=x.split(\" \")[1]\n",
    "    j=0\n",
    "    \n",
    "    for k in range(2,6):\n",
    "        soup = BeautifulSoup(driver.page_source, 'html.parser')\n",
    "\n",
    "        imgs = soup.find_all('div', attrs ={'class':'a-section aok-relative s-image-tall-aspect'})\n",
    "        for h, g in enumerate(imgs):\n",
    "            link = g.find(\"img\").get('src')\n",
    "\n",
    "            try:\n",
    "                filename = link.split('/')[-1].replace(\"._AC_UL320_\",\"\")\n",
    "                temp_fn=filename.split('.')[0]\n",
    "                j+=1\n",
    "                filename=filename.replace(temp_fn,x+str(j))\n",
    "                save_path=r'C:\\Users\\heman\\Untitled Folder 4\\{}'.format(x)\n",
    "                os.chdir(save_path)\n",
    "                urllib.request.urlretrieve(link, filename)\n",
    "                \n",
    "\n",
    "            except :\n",
    "                pass\n",
    "                print( 'An error occured. Continuing.')\n",
    "\n",
    "        driver.get(\"https://www.amazon.in/s?k={0}+{1}&page={2}&qid=1619637824&ref=sr_pg_2\".format(fst,snd,k))\n",
    "        time.sleep(random.randint(1, 10))\n",
    "\n",
    "            \n",
    "driver.quit()"
   ]
  },
  {
   "cell_type": "code",
   "execution_count": null,
   "id": "diagnostic-federation",
   "metadata": {},
   "outputs": [],
   "source": []
  }
 ],
 "metadata": {
  "kernelspec": {
   "display_name": "Python 3",
   "language": "python",
   "name": "python3"
  },
  "language_info": {
   "codemirror_mode": {
    "name": "ipython",
    "version": 3
   },
   "file_extension": ".py",
   "mimetype": "text/x-python",
   "name": "python",
   "nbconvert_exporter": "python",
   "pygments_lexer": "ipython3",
   "version": "3.8.5"
  }
 },
 "nbformat": 4,
 "nbformat_minor": 5
}
